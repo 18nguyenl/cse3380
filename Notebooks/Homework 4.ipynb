{
 "cells": [
  {
   "cell_type": "code",
   "execution_count": 40,
   "metadata": {},
   "outputs": [
    {
     "data": {
      "text/html": [
       "<html><script type=\"math/tex; mode=display\">\\newcommand{\\Bold}[1]{\\mathbf{#1}}\\left(\\begin{array}{rrrrrrr|r}\n",
       "1 & 0 & 0 & 1 & 0 & 0 & 0 & 0 \\\\\n",
       "1 & 1 & 0 & 0 & -1 & 0 & 0 & 0 \\\\\n",
       "0 & -1 & -1 & 0 & 0 & 1 & 0 & 0 \\\\\n",
       "0 & 0 & 1 & 0 & 0 & 0 & 1 & 0 \\\\\n",
       "0 & 0 & 0 & 1 & 1 & -1 & -1 & 0\n",
       "\\end{array}\\right)</script></html>"
      ],
      "text/plain": [
       "[ 1  0  0  1  0  0  0| 0]\n",
       "[ 1  1  0  0 -1  0  0| 0]\n",
       "[ 0 -1 -1  0  0  1  0| 0]\n",
       "[ 0  0  1  0  0  0  1| 0]\n",
       "[ 0  0  0  1  1 -1 -1| 0]"
      ]
     },
     "metadata": {},
     "output_type": "display_data"
    }
   ],
   "source": [
    "Q4network = matrix([[1, 0, 0, 1, 0, 0, 0],\n",
    "                     [1, 1, 0, 0, -1, 0, 0],\n",
    "                     [0, -1, -1, 0, 0, 1, 0],\n",
    "                     [0, 0, 1, 0, 0, 0, 1],\n",
    "                     [0, 0, 0, 1, 1, -1, -1]])\n",
    "Q4system = Q4network.augment(vector([0, 0, 0, 0, 0]), subdivide=true)\n",
    "show(Q4system)"
   ]
  },
  {
   "cell_type": "code",
   "execution_count": 43,
   "metadata": {},
   "outputs": [
    {
     "data": {
      "text/html": [
       "<html><script type=\"math/tex; mode=display\">\\newcommand{\\Bold}[1]{\\mathbf{#1}}\\left(\\begin{array}{rrrrrrr|r}\n",
       "1 & 0 & 0 & 0 & -1 & 1 & 1 & 0 \\\\\n",
       "0 & 1 & 0 & 0 & 0 & -1 & -1 & 0 \\\\\n",
       "0 & 0 & 1 & 0 & 0 & 0 & 1 & 0 \\\\\n",
       "0 & 0 & 0 & 1 & 1 & -1 & -1 & 0 \\\\\n",
       "0 & 0 & 0 & 0 & 0 & 0 & 0 & 0\n",
       "\\end{array}\\right)</script></html>"
      ],
      "text/plain": [
       "[ 1  0  0  0 -1  1  1| 0]\n",
       "[ 0  1  0  0  0 -1 -1| 0]\n",
       "[ 0  0  1  0  0  0  1| 0]\n",
       "[ 0  0  0  1  1 -1 -1| 0]\n",
       "[ 0  0  0  0  0  0  0| 0]"
      ]
     },
     "metadata": {},
     "output_type": "display_data"
    }
   ],
   "source": [
    "show(Q4system.rref())"
   ]
  }
 ],
 "metadata": {
  "kernelspec": {
   "display_name": "SageMath 8.8",
   "language": "sage",
   "name": "sagemath"
  },
  "language_info": {
   "codemirror_mode": {
    "name": "ipython",
    "version": 2
   },
   "file_extension": ".py",
   "mimetype": "text/x-python",
   "name": "python",
   "nbconvert_exporter": "python",
   "pygments_lexer": "ipython2",
   "version": "2.7.15"
  }
 },
 "nbformat": 4,
 "nbformat_minor": 2
}
