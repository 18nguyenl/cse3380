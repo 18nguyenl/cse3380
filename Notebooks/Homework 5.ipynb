{
 "cells": [
  {
   "cell_type": "code",
   "execution_count": 31,
   "metadata": {},
   "outputs": [
    {
     "data": {
      "text/plain": [
       "(0, 0, 1, 1, 0, 1, 1)"
      ]
     },
     "execution_count": 31,
     "metadata": {},
     "output_type": "execute_result"
    }
   ],
   "source": [
    "Q8H = matrix([[1,0,1,0,1,0,1],\n",
    "              [0,1,1,0,0,1,1],\n",
    "              [0,0,0,1,1,1,1]])\n",
    "Q8R = matrix([[0,0,1,0,0,0,0],\n",
    "              [0,0,0,0,1,0,0],\n",
    "              [0,0,0,0,0,1,0],\n",
    "              [0,0,0,0,0,0,1]])\n",
    "\n",
    "Q8a = vector([0,0,1,1,0,1,1])\n",
    "\n",
    "Q8H * Q8a % 2"
   ]
  },
  {
   "cell_type": "code",
   "execution_count": 33,
   "metadata": {},
   "outputs": [
    {
     "data": {
      "text/plain": [
       "(1, 0, 0, 1)"
      ]
     },
     "execution_count": 33,
     "metadata": {},
     "output_type": "execute_result"
    }
   ],
   "source": [
    "Q8a[5] = 0\n",
    "Q8R * Q8a"
   ]
  }
 ],
 "metadata": {
  "kernelspec": {
   "display_name": "SageMath 8.8",
   "language": "sage",
   "name": "sagemath"
  },
  "language_info": {
   "codemirror_mode": {
    "name": "ipython",
    "version": 2
   },
   "file_extension": ".py",
   "mimetype": "text/x-python",
   "name": "python",
   "nbconvert_exporter": "python",
   "pygments_lexer": "ipython2",
   "version": "2.7.15"
  }
 },
 "nbformat": 4,
 "nbformat_minor": 2
}
