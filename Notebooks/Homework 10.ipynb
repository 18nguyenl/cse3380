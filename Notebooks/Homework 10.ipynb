{
 "cells": [
  {
   "cell_type": "markdown",
   "metadata": {},
   "source": [
    "# Homework 10"
   ]
  },
  {
   "cell_type": "markdown",
   "metadata": {},
   "source": [
    "## Question 1"
   ]
  },
  {
   "cell_type": "code",
   "execution_count": 4,
   "metadata": {},
   "outputs": [
    {
     "data": {
      "text/html": [
       "<html><script type=\"math/tex; mode=display\">\\newcommand{\\Bold}[1]{\\mathbf{#1}}\\left(\\begin{array}{rrr}\n",
       "2.0 & 0.0 & 1.0 \\\\\n",
       "0.0 & 2.0 & 2.0\n",
       "\\end{array}\\right)</script></html>"
      ],
      "text/plain": [
       "[2.0 0.0 1.0]\n",
       "[0.0 2.0 2.0]"
      ]
     },
     "metadata": {},
     "output_type": "display_data"
    },
    {
     "data": {
      "text/html": [
       "<html><script type=\"math/tex; mode=display\">\\newcommand{\\Bold}[1]{\\mathbf{#1}}A = U \\Sigma V^T</script></html>"
      ],
      "text/plain": [
       "A = U \\Sigma V^T"
      ]
     },
     "metadata": {},
     "output_type": "display_data"
    },
    {
     "data": {
      "text/html": [
       "<html><script type=\"math/tex; mode=display\">\\newcommand{\\Bold}[1]{\\mathbf{#1}}\\left(\\left(\\begin{array}{rr}\n",
       "0.4472135954999581 & 0.8944271909999156 \\\\\n",
       "0.8944271909999159 & -0.44721359549995815\n",
       "\\end{array}\\right), \\left(\\begin{array}{rrr}\n",
       "3.0 & 0.0 & 0.0 \\\\\n",
       "0.0 & 2.0 & 0.0\n",
       "\\end{array}\\right), \\left(\\begin{array}{rrr}\n",
       "0.29814239699997214 & 0.8944271909999157 & -0.33333333333333337 \\\\\n",
       "0.5962847939999439 & -0.44721359549995815 & -0.6666666666666666 \\\\\n",
       "0.7453559924999298 & -1.1102230246251565 \\times 10^{-16} & 0.6666666666666667\n",
       "\\end{array}\\right)\\right)</script></html>"
      ],
      "text/plain": [
       "(\n",
       "                                                            [    0.29814239699997214      0.8944271909999157    -0.33333333333333337]\n",
       "[  0.4472135954999581   0.8944271909999156]  [3.0 0.0 0.0]  [     0.5962847939999439    -0.44721359549995815     -0.6666666666666666]\n",
       "[  0.8944271909999159 -0.44721359549995815], [0.0 2.0 0.0], [     0.7453559924999298 -1.1102230246251565e-16      0.6666666666666667]\n",
       ")"
      ]
     },
     "metadata": {},
     "output_type": "display_data"
    }
   ],
   "source": [
    "import numpy as np\n",
    "\n",
    "Q1A = matrix(RDF, [[2,0,1],[0,2,2]])\n",
    "\n",
    "show(Q1A)\n",
    "\n",
    "show(LatexExpr(\"A = U \\Sigma V^T\"))\n",
    "show(Q1A.SVD())"
   ]
  },
  {
   "cell_type": "code",
   "execution_count": 8,
   "metadata": {},
   "outputs": [
    {
     "data": {
      "text/html": [
       "<html><script type=\"math/tex; mode=display\">\\newcommand{\\Bold}[1]{\\mathbf{#1}}A^{T}A = \\left(\\begin{array}{rrr}\n",
       "4 & 0 & 2 \\\\\n",
       "0 & 4 & 4 \\\\\n",
       "2 & 4 & 5\n",
       "\\end{array}\\right)</script></html>"
      ],
      "text/plain": [
       "A^{T}A = [4 0 2]\n",
       "[0 4 4]\n",
       "[2 4 5]"
      ]
     },
     "metadata": {},
     "output_type": "display_data"
    },
    {
     "data": {
      "text/html": [
       "<html><script type=\"math/tex; mode=display\">\\newcommand{\\Bold}[1]{\\mathbf{#1}}\\lambda_1, \\lambda_2, \\lambda_n = \\left[9, 4, 0\\right]</script></html>"
      ],
      "text/plain": [
       "\\lambda_1, \\lambda_2, \\lambda_n = [9, 4, 0]"
      ]
     },
     "metadata": {},
     "output_type": "display_data"
    },
    {
     "data": {
      "text/html": [
       "<html><script type=\"math/tex; mode=display\">\\newcommand{\\Bold}[1]{\\mathbf{#1}}{\\lambda}^{3} - 13 \\, {\\lambda}^{2} + 36 \\, {\\lambda}</script></html>"
      ],
      "text/plain": [
       "l^3 - 13*l^2 + 36*l"
      ]
     },
     "metadata": {},
     "output_type": "display_data"
    },
    {
     "data": {
      "text/html": [
       "<html><script type=\"math/tex; mode=display\">\\newcommand{\\Bold}[1]{\\mathbf{#1}}\\Sigma = \\left(\\begin{array}{rrr}\n",
       "3 & 0 & 0 \\\\\n",
       "0 & 2 & 0\n",
       "\\end{array}\\right)</script></html>"
      ],
      "text/plain": [
       "\\Sigma = [3 0 0]\n",
       "[0 2 0]"
      ]
     },
     "metadata": {},
     "output_type": "display_data"
    }
   ],
   "source": [
    "## Producing Sigma\n",
    "Q1ATA = Q1A.transpose() * Q1A\n",
    "Q1ATA = Q1ATA.change_ring(QQ)\n",
    "\n",
    "show(LatexExpr(\"A^{T}A =\"), Q1ATA)\n",
    "\n",
    "show(LatexExpr(\"\\lambda_1, \\lambda_2, \\lambda_n =\"), Q1ATA.eigenvalues())\n",
    "show(Q1ATA.characteristic_polynomial()(x=l))\n",
    "\n",
    "Q1Sigma = diagonal_matrix(QQ, [sqrt(x) for x in Q1ATA.eigenvalues()])\n",
    "Q1Sigma = Q1Sigma[0:Q1A.nrows(),0:Q1A.ncols()]\n",
    "\n",
    "show(LatexExpr(\"\\Sigma =\"), Q1Sigma)"
   ]
  },
  {
   "cell_type": "code",
   "execution_count": 7,
   "metadata": {},
   "outputs": [
    {
     "data": {
      "text/html": [
       "<html><script type=\"math/tex; mode=display\">\\newcommand{\\Bold}[1]{\\mathbf{#1}}\\left(\\begin{array}{rrr}\n",
       "-{\\lambda} + 4 & 0 & 2 \\\\\n",
       "0 & -{\\lambda} + 4 & 4 \\\\\n",
       "2 & 4 & -{\\lambda} + 5\n",
       "\\end{array}\\right)</script></html>"
      ],
      "text/plain": [
       "[-l + 4      0      2]\n",
       "[     0 -l + 4      4]\n",
       "[     2      4 -l + 5]"
      ]
     },
     "metadata": {},
     "output_type": "display_data"
    },
    {
     "data": {
      "text/html": [
       "<html><script type=\"math/tex; mode=display\">\\newcommand{\\Bold}[1]{\\mathbf{#1}}\\lambda= 9</script></html>"
      ],
      "text/plain": [
       "\\lambda= 9"
      ]
     },
     "metadata": {},
     "output_type": "display_data"
    },
    {
     "data": {
      "text/html": [
       "<html><script type=\"math/tex; mode=display\">\\newcommand{\\Bold}[1]{\\mathbf{#1}}\\left(\\begin{array}{rrr}\n",
       "-5 & 0 & 2 \\\\\n",
       "0 & -5 & 4 \\\\\n",
       "2 & 4 & -4\n",
       "\\end{array}\\right) \\underrightarrow{RREF} \\left(\\begin{array}{rrr}\n",
       "1 & 0 & -\\frac{2}{5} \\\\\n",
       "0 & 1 & -\\frac{4}{5} \\\\\n",
       "0 & 0 & 0\n",
       "\\end{array}\\right)</script></html>"
      ],
      "text/plain": [
       "[-5  0  2]\n",
       "[ 0 -5  4]\n",
       "[ 2  4 -4] \\underrightarrow{RREF} [   1    0 -2/5]\n",
       "[   0    1 -4/5]\n",
       "[   0    0    0]"
      ]
     },
     "metadata": {},
     "output_type": "display_data"
    },
    {
     "data": {
      "text/html": [
       "<html><script type=\"math/tex; mode=display\">\\newcommand{\\Bold}[1]{\\mathbf{#1}}\\overrightarrow{v}= \\frac{2}{15} \\, \\sqrt{5} \\left(\\begin{array}{r}\n",
       "1 \\\\\n",
       "2 \\\\\n",
       "\\frac{5}{2}\n",
       "\\end{array}\\right) = \\left(\\begin{array}{r}\n",
       "\\frac{2}{15} \\, \\sqrt{5} \\\\\n",
       "\\frac{4}{15} \\, \\sqrt{5} \\\\\n",
       "\\frac{1}{3} \\, \\sqrt{5}\n",
       "\\end{array}\\right)</script></html>"
      ],
      "text/plain": [
       "\\overrightarrow{v}= 2/15*sqrt(5) [  1]\n",
       "[  2]\n",
       "[5/2] = [2/15*sqrt(5)]\n",
       "[4/15*sqrt(5)]\n",
       "[ 1/3*sqrt(5)]"
      ]
     },
     "metadata": {},
     "output_type": "display_data"
    },
    {
     "data": {
      "text/html": [
       "<html><script type=\"math/tex; mode=display\">\\newcommand{\\Bold}[1]{\\mathbf{#1}}\\lambda= 4</script></html>"
      ],
      "text/plain": [
       "\\lambda= 4"
      ]
     },
     "metadata": {},
     "output_type": "display_data"
    },
    {
     "data": {
      "text/html": [
       "<html><script type=\"math/tex; mode=display\">\\newcommand{\\Bold}[1]{\\mathbf{#1}}\\left(\\begin{array}{rrr}\n",
       "0 & 0 & 2 \\\\\n",
       "0 & 0 & 4 \\\\\n",
       "2 & 4 & 1\n",
       "\\end{array}\\right) \\underrightarrow{RREF} \\left(\\begin{array}{rrr}\n",
       "1 & 2 & 0 \\\\\n",
       "0 & 0 & 1 \\\\\n",
       "0 & 0 & 0\n",
       "\\end{array}\\right)</script></html>"
      ],
      "text/plain": [
       "[0 0 2]\n",
       "[0 0 4]\n",
       "[2 4 1] \\underrightarrow{RREF} [1 2 0]\n",
       "[0 0 1]\n",
       "[0 0 0]"
      ]
     },
     "metadata": {},
     "output_type": "display_data"
    },
    {
     "data": {
      "text/html": [
       "<html><script type=\"math/tex; mode=display\">\\newcommand{\\Bold}[1]{\\mathbf{#1}}\\overrightarrow{v}= \\frac{2}{5} \\, \\sqrt{5} \\left(\\begin{array}{r}\n",
       "1 \\\\\n",
       "-\\frac{1}{2} \\\\\n",
       "0\n",
       "\\end{array}\\right) = \\left(\\begin{array}{r}\n",
       "\\frac{2}{5} \\, \\sqrt{5} \\\\\n",
       "-\\frac{1}{5} \\, \\sqrt{5} \\\\\n",
       "0\n",
       "\\end{array}\\right)</script></html>"
      ],
      "text/plain": [
       "\\overrightarrow{v}= 2/5*sqrt(5) [   1]\n",
       "[-1/2]\n",
       "[   0] = [ 2/5*sqrt(5)]\n",
       "[-1/5*sqrt(5)]\n",
       "[           0]"
      ]
     },
     "metadata": {},
     "output_type": "display_data"
    },
    {
     "data": {
      "text/html": [
       "<html><script type=\"math/tex; mode=display\">\\newcommand{\\Bold}[1]{\\mathbf{#1}}\\lambda= 0</script></html>"
      ],
      "text/plain": [
       "\\lambda= 0"
      ]
     },
     "metadata": {},
     "output_type": "display_data"
    },
    {
     "data": {
      "text/html": [
       "<html><script type=\"math/tex; mode=display\">\\newcommand{\\Bold}[1]{\\mathbf{#1}}\\left(\\begin{array}{rrr}\n",
       "4 & 0 & 2 \\\\\n",
       "0 & 4 & 4 \\\\\n",
       "2 & 4 & 5\n",
       "\\end{array}\\right) \\underrightarrow{RREF} \\left(\\begin{array}{rrr}\n",
       "1 & 0 & \\frac{1}{2} \\\\\n",
       "0 & 1 & 1 \\\\\n",
       "0 & 0 & 0\n",
       "\\end{array}\\right)</script></html>"
      ],
      "text/plain": [
       "[4 0 2]\n",
       "[0 4 4]\n",
       "[2 4 5] \\underrightarrow{RREF} [  1   0 1/2]\n",
       "[  0   1   1]\n",
       "[  0   0   0]"
      ]
     },
     "metadata": {},
     "output_type": "display_data"
    },
    {
     "data": {
      "text/html": [
       "<html><script type=\"math/tex; mode=display\">\\newcommand{\\Bold}[1]{\\mathbf{#1}}\\overrightarrow{v}= \\frac{1}{3} \\left(\\begin{array}{r}\n",
       "1 \\\\\n",
       "2 \\\\\n",
       "-2\n",
       "\\end{array}\\right) = \\left(\\begin{array}{r}\n",
       "\\frac{1}{3} \\\\\n",
       "\\frac{2}{3} \\\\\n",
       "-\\frac{2}{3}\n",
       "\\end{array}\\right)</script></html>"
      ],
      "text/plain": [
       "\\overrightarrow{v}= 1/3 [ 1]\n",
       "[ 2]\n",
       "[-2] = [ 1/3]\n",
       "[ 2/3]\n",
       "[-2/3]"
      ]
     },
     "metadata": {},
     "output_type": "display_data"
    },
    {
     "data": {
      "text/html": [
       "<html><script type=\"math/tex; mode=display\">\\newcommand{\\Bold}[1]{\\mathbf{#1}}\\left[\\left(\\begin{array}{r}\n",
       "\\frac{2}{15} \\, \\sqrt{5} \\\\\n",
       "\\frac{4}{15} \\, \\sqrt{5} \\\\\n",
       "\\frac{1}{3} \\, \\sqrt{5}\n",
       "\\end{array}\\right), \\left(\\begin{array}{r}\n",
       "\\frac{2}{5} \\, \\sqrt{5} \\\\\n",
       "-\\frac{1}{5} \\, \\sqrt{5} \\\\\n",
       "0\n",
       "\\end{array}\\right), \\left(\\begin{array}{r}\n",
       "\\frac{1}{3} \\\\\n",
       "\\frac{2}{3} \\\\\n",
       "-\\frac{2}{3}\n",
       "\\end{array}\\right)\\right]</script></html>"
      ],
      "text/plain": [
       "[\n",
       "[2/15*sqrt(5)]  [ 2/5*sqrt(5)]  [ 1/3]\n",
       "[4/15*sqrt(5)]  [-1/5*sqrt(5)]  [ 2/3]\n",
       "[ 1/3*sqrt(5)], [           0], [-2/3]\n",
       "]"
      ]
     },
     "metadata": {},
     "output_type": "display_data"
    },
    {
     "data": {
      "text/html": [
       "<html><script type=\"math/tex; mode=display\">\\newcommand{\\Bold}[1]{\\mathbf{#1}}V= \\left(\\begin{array}{rrr}\n",
       "0.298142396999972 & 0.894427190999916 & 0.333333333333333 \\\\\n",
       "0.596284793999944 & -0.447213595499958 & 0.666666666666667 \\\\\n",
       "0.745355992499930 & 0.000000000000000 & -0.666666666666667\n",
       "\\end{array}\\right)</script></html>"
      ],
      "text/plain": [
       "V= [ 0.298142396999972  0.894427190999916  0.333333333333333]\n",
       "[ 0.596284793999944 -0.447213595499958  0.666666666666667]\n",
       "[ 0.745355992499930  0.000000000000000 -0.666666666666667]"
      ]
     },
     "metadata": {},
     "output_type": "display_data"
    },
    {
     "data": {
      "text/html": [
       "<html><script type=\"math/tex; mode=display\">\\newcommand{\\Bold}[1]{\\mathbf{#1}}V^T= \\left(\\begin{array}{rrr}\n",
       "0.298142396999972 & 0.596284793999944 & 0.745355992499930 \\\\\n",
       "0.894427190999916 & -0.447213595499958 & 0.000000000000000 \\\\\n",
       "0.333333333333333 & 0.666666666666667 & -0.666666666666667\n",
       "\\end{array}\\right)</script></html>"
      ],
      "text/plain": [
       "V^T= [ 0.298142396999972  0.596284793999944  0.745355992499930]\n",
       "[ 0.894427190999916 -0.447213595499958  0.000000000000000]\n",
       "[ 0.333333333333333  0.666666666666667 -0.666666666666667]"
      ]
     },
     "metadata": {},
     "output_type": "display_data"
    }
   ],
   "source": [
    "## Producing V\n",
    "def eigenvalue_matrix(ATA):\n",
    "    var('l', latex_name=r'\\lambda')\n",
    "    eig_Matrix = ATA - diagonal_matrix(ATA.diagonal())\n",
    "    eig_Matrix += diagonal_matrix([x - l for x in ATA.diagonal()])\n",
    "    \n",
    "    return eig_Matrix\n",
    "\n",
    "show(eigenvalue_matrix(Q1ATA))\n",
    "\n",
    "def SVD_V(ATA, eig_matrix):\n",
    "    var('l', latex_name=r'\\lambda')\n",
    "    vs = []\n",
    "    for e in ATA.eigenvalues():\n",
    "        show(LatexExpr(\"\\lambda=\"), e)\n",
    "        show(eig_matrix(l=e), LatexExpr(\"\\underrightarrow{RREF}\"), eig_matrix(l=e).rref())\n",
    "        null_space = eig_matrix(l=e).right_kernel_matrix()\n",
    "        factor = 1/sqrt(sum([(x)^2 for x in null_space.list()]))\n",
    "        show(LatexExpr(\"\\overrightarrow{v}=\"), factor, null_space.transpose(), LatexExpr(\"=\"), factor * null_space.transpose())\n",
    "        vs.append(factor * null_space)\n",
    "    show([x.transpose() for x in vs])\n",
    "    V = matrix(CC, [x.list() for x in vs])\n",
    "    return V\n",
    "\n",
    "Q1V = SVD_V(Q1ATA, eigenvalue_matrix(Q1ATA)).transpose()\n",
    "show(LatexExpr(\"V=\"),Q1V)\n",
    "show(LatexExpr(\"V^T=\"),Q1V.transpose())"
   ]
  },
  {
   "cell_type": "code",
   "execution_count": null,
   "metadata": {},
   "outputs": [],
   "source": [
    "Q1AAT = Q1A * Q1A.transpose()\n",
    "Q1AAT = Q1AAT.change_ring(QQ)\n",
    "\n",
    "show(Q1AAT)\n",
    "show(Q1AAT.characteristic_polynomial())\n",
    "\n",
    "def SVD_U_full(AAT, eig_matrix):\n",
    "    var('l', latex_name=r'\\lambda')\n",
    "    vs = []\n",
    "    for e in AAT.eigenvalues():\n",
    "        show(LatexExpr(\"\\lambda=\"), e)\n",
    "        show(eig_matrix(l=e), LatexExpr(\"\\underrightarrow{RREF}\"), eig_matrix(l=e).rref())\n",
    "        null_space = eig_matrix(l=e).right_kernel_matrix()\n",
    "        factor = 1/sqrt(sum([(x)^2 for x in null_space.list()]))\n",
    "        show(LatexExpr(\"\\overrightarrow{u}=\"), factor, null_space.transpose(), LatexExpr(\"=\"), factor * null_space.transpose())\n",
    "        vs.append(factor * null_space)\n",
    "    show([x.transpose() for x in vs])\n",
    "    V = matrix(CC, [x.list() for x in vs])\n",
    "    return V\n",
    "\n",
    "Q1U = SVD_U_full(Q1AAT, eigenvalue_matrix(Q1AAT))\n",
    "show(LatexExpr(\"U=\"),Q1U)"
   ]
  },
  {
   "cell_type": "code",
   "execution_count": null,
   "metadata": {},
   "outputs": [],
   "source": [
    "show(Q1U * Q1Sigma.change_ring(CC) * Q1V.transpose())"
   ]
  },
  {
   "cell_type": "code",
   "execution_count": null,
   "metadata": {},
   "outputs": [],
   "source": [
    "Q1t1 = matrix([[1/sqrt(5), 2*sqrt(5)/5], [2/sqrt(5), -sqrt(5)/5]])\n",
    "Q1t2 = matrix([[3,0,0],[0,2,0]])\n",
    "Q1t3 = matrix([[2*sqrt(5)/15, 4*sqrt(5)/15, sqrt(5)/3],[2*sqrt(5)/5, -sqrt(5)/5, 0],[1/3, 2/3, -2/3]])\n",
    "show(Q1t3.change_ring(CC))\n",
    "show(Q1V.transpose())\n",
    "show(Q1t1 * Q1t2 * Q1t3)"
   ]
  },
  {
   "cell_type": "markdown",
   "metadata": {},
   "source": [
    "## Question 2"
   ]
  },
  {
   "cell_type": "code",
   "execution_count": 322,
   "metadata": {},
   "outputs": [
    {
     "data": {
      "text/html": [
       "<html><script type=\"math/tex; mode=display\">\\newcommand{\\Bold}[1]{\\mathbf{#1}}\\left(\\begin{array}{rr}\n",
       "3.0 & 2.0 \\\\\n",
       "2.0 & 3.0 \\\\\n",
       "2.0 & -2.0\n",
       "\\end{array}\\right)</script></html>"
      ],
      "text/plain": [
       "[ 3.0  2.0]\n",
       "[ 2.0  3.0]\n",
       "[ 2.0 -2.0]"
      ]
     },
     "metadata": {},
     "output_type": "display_data"
    },
    {
     "data": {
      "text/html": [
       "<html><script type=\"math/tex; mode=display\">\\newcommand{\\Bold}[1]{\\mathbf{#1}}A = U \\Sigma V^T</script></html>"
      ],
      "text/plain": [
       "A = U \\Sigma V^T"
      ]
     },
     "metadata": {},
     "output_type": "display_data"
    },
    {
     "data": {
      "text/html": [
       "<html><script type=\"math/tex; mode=display\">\\newcommand{\\Bold}[1]{\\mathbf{#1}}\\left(\\left(\\begin{array}{rrr}\n",
       "-0.7071067811865477 & 0.2357022603955157 & -0.6666666666666666 \\\\\n",
       "-0.7071067811865475 & -0.23570226039551587 & 0.6666666666666666 \\\\\n",
       "-1.6653345369377348 \\times 10^{-16} & 0.9428090415820632 & 0.33333333333333326\n",
       "\\end{array}\\right), \\left(\\begin{array}{rr}\n",
       "4.999999999999999 & 0.0 \\\\\n",
       "0.0 & 3.0 \\\\\n",
       "0.0 & 0.0\n",
       "\\end{array}\\right), \\left(\\begin{array}{rr}\n",
       "-0.7071067811865477 & 0.7071067811865474 \\\\\n",
       "-0.7071067811865474 & -0.7071067811865477\n",
       "\\end{array}\\right)\\right)</script></html>"
      ],
      "text/plain": [
       "(\n",
       "[    -0.7071067811865477      0.2357022603955157     -0.6666666666666666]\n",
       "[    -0.7071067811865475    -0.23570226039551587      0.6666666666666666]\n",
       "[-1.6653345369377348e-16      0.9428090415820632     0.33333333333333326],\n",
       "\n",
       "[4.999999999999999               0.0]\n",
       "[              0.0               3.0]\n",
       "[              0.0               0.0],\n",
       "\n",
       "[-0.7071067811865477  0.7071067811865474]\n",
       "[-0.7071067811865474 -0.7071067811865477]\n",
       ")"
      ]
     },
     "metadata": {},
     "output_type": "display_data"
    }
   ],
   "source": [
    "Q2A = matrix(RDF, [[3,2],[2,3],[2,-2]])\n",
    "\n",
    "show(Q2A)\n",
    "\n",
    "show(LatexExpr(\"A = U \\Sigma V^T\"))\n",
    "show(Q2A.SVD())"
   ]
  },
  {
   "cell_type": "code",
   "execution_count": 407,
   "metadata": {},
   "outputs": [
    {
     "data": {
      "text/html": [
       "<html><script type=\"math/tex; mode=display\">\\newcommand{\\Bold}[1]{\\mathbf{#1}}A^{T}A = \\left(\\begin{array}{rr}\n",
       "17 & 8 \\\\\n",
       "8 & 17\n",
       "\\end{array}\\right)</script></html>"
      ],
      "text/plain": [
       "A^{T}A = [17  8]\n",
       "[ 8 17]"
      ]
     },
     "metadata": {},
     "output_type": "display_data"
    },
    {
     "data": {
      "text/html": [
       "<html><script type=\"math/tex; mode=display\">\\newcommand{\\Bold}[1]{\\mathbf{#1}}{\\lambda}^{2} - 34 \\, {\\lambda} + 225</script></html>"
      ],
      "text/plain": [
       "l^2 - 34*l + 225"
      ]
     },
     "metadata": {},
     "output_type": "display_data"
    },
    {
     "data": {
      "text/html": [
       "<html><script type=\"math/tex; mode=display\">\\newcommand{\\Bold}[1]{\\mathbf{#1}}\\lambda_1, \\lambda_2, \\lambda_n = \\left[25, 9\\right]</script></html>"
      ],
      "text/plain": [
       "\\lambda_1, \\lambda_2, \\lambda_n = [25, 9]"
      ]
     },
     "metadata": {},
     "output_type": "display_data"
    },
    {
     "data": {
      "text/html": [
       "<html><script type=\"math/tex; mode=display\">\\newcommand{\\Bold}[1]{\\mathbf{#1}}\\Sigma = \\left(\\begin{array}{rr}\n",
       "5 & 0 \\\\\n",
       "0 & 3\n",
       "\\end{array}\\right)</script></html>"
      ],
      "text/plain": [
       "\\Sigma = [5 0]\n",
       "[0 3]"
      ]
     },
     "metadata": {},
     "output_type": "display_data"
    }
   ],
   "source": [
    "Q2ATA = Q2A.transpose() * Q2A\n",
    "Q2ATA = Q2ATA.change_ring(QQ)\n",
    "\n",
    "show(LatexExpr(\"A^{T}A =\"), Q2ATA)\n",
    "show(Q2ATA.characteristic_polynomial()(x=l))\n",
    "\n",
    "show(LatexExpr(\"\\lambda_1, \\lambda_2, \\lambda_n =\"), Q2ATA.eigenvalues())\n",
    "\n",
    "Q2Sigma = diagonal_matrix(QQ, [sqrt(x) for x in Q2ATA.eigenvalues()])\n",
    "Q2SigmaFull = Q2Sigma[0:Q2A.nrows(),0:Q2A.ncols()]\n",
    "\n",
    "show(LatexExpr(\"\\Sigma =\"), Q2Sigma)"
   ]
  },
  {
   "cell_type": "code",
   "execution_count": 340,
   "metadata": {},
   "outputs": [
    {
     "data": {
      "text/html": [
       "<html><script type=\"math/tex; mode=display\">\\newcommand{\\Bold}[1]{\\mathbf{#1}}\\left(\\begin{array}{rr}\n",
       "-{\\lambda} + 17 & 8 \\\\\n",
       "8 & -{\\lambda} + 17\n",
       "\\end{array}\\right)</script></html>"
      ],
      "text/plain": [
       "[-l + 17       8]\n",
       "[      8 -l + 17]"
      ]
     },
     "metadata": {},
     "output_type": "display_data"
    },
    {
     "data": {
      "text/html": [
       "<html><script type=\"math/tex; mode=display\">\\newcommand{\\Bold}[1]{\\mathbf{#1}}\\lambda= 25</script></html>"
      ],
      "text/plain": [
       "\\lambda= 25"
      ]
     },
     "metadata": {},
     "output_type": "display_data"
    },
    {
     "data": {
      "text/html": [
       "<html><script type=\"math/tex; mode=display\">\\newcommand{\\Bold}[1]{\\mathbf{#1}}\\left(\\begin{array}{rr}\n",
       "-8 & 8 \\\\\n",
       "8 & -8\n",
       "\\end{array}\\right) \\underrightarrow{RREF} \\left(\\begin{array}{rr}\n",
       "1 & -1 \\\\\n",
       "0 & 0\n",
       "\\end{array}\\right)</script></html>"
      ],
      "text/plain": [
       "[-8  8]\n",
       "[ 8 -8] \\underrightarrow{RREF} [ 1 -1]\n",
       "[ 0  0]"
      ]
     },
     "metadata": {},
     "output_type": "display_data"
    },
    {
     "data": {
      "text/html": [
       "<html><script type=\"math/tex; mode=display\">\\newcommand{\\Bold}[1]{\\mathbf{#1}}\\overrightarrow{v}= \\frac{1}{2} \\, \\sqrt{2} \\left(\\begin{array}{r}\n",
       "1 \\\\\n",
       "1\n",
       "\\end{array}\\right) = \\left(\\begin{array}{r}\n",
       "\\frac{1}{2} \\, \\sqrt{2} \\\\\n",
       "\\frac{1}{2} \\, \\sqrt{2}\n",
       "\\end{array}\\right)</script></html>"
      ],
      "text/plain": [
       "\\overrightarrow{v}= 1/2*sqrt(2) [1]\n",
       "[1] = [1/2*sqrt(2)]\n",
       "[1/2*sqrt(2)]"
      ]
     },
     "metadata": {},
     "output_type": "display_data"
    },
    {
     "data": {
      "text/html": [
       "<html><script type=\"math/tex; mode=display\">\\newcommand{\\Bold}[1]{\\mathbf{#1}}\\lambda= 9</script></html>"
      ],
      "text/plain": [
       "\\lambda= 9"
      ]
     },
     "metadata": {},
     "output_type": "display_data"
    },
    {
     "data": {
      "text/html": [
       "<html><script type=\"math/tex; mode=display\">\\newcommand{\\Bold}[1]{\\mathbf{#1}}\\left(\\begin{array}{rr}\n",
       "8 & 8 \\\\\n",
       "8 & 8\n",
       "\\end{array}\\right) \\underrightarrow{RREF} \\left(\\begin{array}{rr}\n",
       "1 & 1 \\\\\n",
       "0 & 0\n",
       "\\end{array}\\right)</script></html>"
      ],
      "text/plain": [
       "[8 8]\n",
       "[8 8] \\underrightarrow{RREF} [1 1]\n",
       "[0 0]"
      ]
     },
     "metadata": {},
     "output_type": "display_data"
    },
    {
     "data": {
      "text/html": [
       "<html><script type=\"math/tex; mode=display\">\\newcommand{\\Bold}[1]{\\mathbf{#1}}\\overrightarrow{v}= \\frac{1}{2} \\, \\sqrt{2} \\left(\\begin{array}{r}\n",
       "1 \\\\\n",
       "-1\n",
       "\\end{array}\\right) = \\left(\\begin{array}{r}\n",
       "\\frac{1}{2} \\, \\sqrt{2} \\\\\n",
       "-\\frac{1}{2} \\, \\sqrt{2}\n",
       "\\end{array}\\right)</script></html>"
      ],
      "text/plain": [
       "\\overrightarrow{v}= 1/2*sqrt(2) [ 1]\n",
       "[-1] = [ 1/2*sqrt(2)]\n",
       "[-1/2*sqrt(2)]"
      ]
     },
     "metadata": {},
     "output_type": "display_data"
    },
    {
     "data": {
      "text/html": [
       "<html><script type=\"math/tex; mode=display\">\\newcommand{\\Bold}[1]{\\mathbf{#1}}\\left[\\left(\\begin{array}{r}\n",
       "\\frac{1}{2} \\, \\sqrt{2} \\\\\n",
       "\\frac{1}{2} \\, \\sqrt{2}\n",
       "\\end{array}\\right), \\left(\\begin{array}{r}\n",
       "\\frac{1}{2} \\, \\sqrt{2} \\\\\n",
       "-\\frac{1}{2} \\, \\sqrt{2}\n",
       "\\end{array}\\right)\\right]</script></html>"
      ],
      "text/plain": [
       "[\n",
       "[1/2*sqrt(2)]  [ 1/2*sqrt(2)]\n",
       "[1/2*sqrt(2)], [-1/2*sqrt(2)]\n",
       "]"
      ]
     },
     "metadata": {},
     "output_type": "display_data"
    },
    {
     "data": {
      "text/html": [
       "<html><script type=\"math/tex; mode=display\">\\newcommand{\\Bold}[1]{\\mathbf{#1}}V= \\left(\\begin{array}{rr}\n",
       "0.707106781186547 & 0.707106781186547 \\\\\n",
       "0.707106781186547 & -0.707106781186547\n",
       "\\end{array}\\right)</script></html>"
      ],
      "text/plain": [
       "V= [ 0.707106781186547  0.707106781186547]\n",
       "[ 0.707106781186547 -0.707106781186547]"
      ]
     },
     "metadata": {},
     "output_type": "display_data"
    }
   ],
   "source": [
    "show(eigenvalue_matrix(Q2ATA))\n",
    "\n",
    "Q2V = SVD_V(Q2ATA, eigenvalue_matrix(Q2ATA)).transpose()\n",
    "show(LatexExpr(\"V=\"),Q2V)"
   ]
  },
  {
   "cell_type": "code",
   "execution_count": 411,
   "metadata": {},
   "outputs": [
    {
     "data": {
      "text/html": [
       "<html><script type=\"math/tex; mode=display\">\\newcommand{\\Bold}[1]{\\mathbf{#1}}\\left(\\begin{array}{rrr}\n",
       "13 & 12 & 2 \\\\\n",
       "12 & 13 & -2 \\\\\n",
       "2 & -2 & 8\n",
       "\\end{array}\\right)</script></html>"
      ],
      "text/plain": [
       "[13 12  2]\n",
       "[12 13 -2]\n",
       "[ 2 -2  8]"
      ]
     },
     "metadata": {},
     "output_type": "display_data"
    },
    {
     "data": {
      "text/html": [
       "<html><script type=\"math/tex; mode=display\">\\newcommand{\\Bold}[1]{\\mathbf{#1}}x^{3} - 34 x^{2} + 225 x</script></html>"
      ],
      "text/plain": [
       "x^3 - 34*x^2 + 225*x"
      ]
     },
     "metadata": {},
     "output_type": "display_data"
    },
    {
     "data": {
      "text/html": [
       "<html><script type=\"math/tex; mode=display\">\\newcommand{\\Bold}[1]{\\mathbf{#1}}\\lambda= 25</script></html>"
      ],
      "text/plain": [
       "\\lambda= 25"
      ]
     },
     "metadata": {},
     "output_type": "display_data"
    },
    {
     "data": {
      "text/html": [
       "<html><script type=\"math/tex; mode=display\">\\newcommand{\\Bold}[1]{\\mathbf{#1}}\\frac{1}{5} \\left(\\begin{array}{rr}\n",
       "3.0 & 2.0 \\\\\n",
       "2.0 & 3.0 \\\\\n",
       "2.0 & -2.0\n",
       "\\end{array}\\right) \\left(\\begin{array}{r}\n",
       "0.707106781186547 \\\\\n",
       "0.707106781186547\n",
       "\\end{array}\\right) = \\left(\\begin{array}{r}\n",
       "0.707106781186548 \\\\\n",
       "0.707106781186548 \\\\\n",
       "0.000000000000000\n",
       "\\end{array}\\right)</script></html>"
      ],
      "text/plain": [
       "1/5 [ 3.0  2.0]\n",
       "[ 2.0  3.0]\n",
       "[ 2.0 -2.0] [0.707106781186547]\n",
       "[0.707106781186547] = [0.707106781186548]\n",
       "[0.707106781186548]\n",
       "[0.000000000000000]"
      ]
     },
     "metadata": {},
     "output_type": "display_data"
    },
    {
     "data": {
      "text/html": [
       "<html><script type=\"math/tex; mode=display\">\\newcommand{\\Bold}[1]{\\mathbf{#1}}\\lambda= 9</script></html>"
      ],
      "text/plain": [
       "\\lambda= 9"
      ]
     },
     "metadata": {},
     "output_type": "display_data"
    },
    {
     "data": {
      "text/html": [
       "<html><script type=\"math/tex; mode=display\">\\newcommand{\\Bold}[1]{\\mathbf{#1}}\\left(\\begin{array}{rrr}\n",
       "4 & 12 & 2 \\\\\n",
       "12 & 4 & -2 \\\\\n",
       "2 & -2 & -1\n",
       "\\end{array}\\right) \\underrightarrow{RREF} \\left(\\begin{array}{rrr}\n",
       "1 & 0 & -\\frac{1}{4} \\\\\n",
       "0 & 1 & \\frac{1}{4} \\\\\n",
       "0 & 0 & 0\n",
       "\\end{array}\\right)</script></html>"
      ],
      "text/plain": [
       "[ 4 12  2]\n",
       "[12  4 -2]\n",
       "[ 2 -2 -1] \\underrightarrow{RREF} [   1    0 -1/4]\n",
       "[   0    1  1/4]\n",
       "[   0    0    0]"
      ]
     },
     "metadata": {},
     "output_type": "display_data"
    },
    {
     "data": {
      "text/html": [
       "<html><script type=\"math/tex; mode=display\">\\newcommand{\\Bold}[1]{\\mathbf{#1}}\\overrightarrow{u}= \\frac{1}{6} \\, \\sqrt{2} \\left(\\begin{array}{r}\n",
       "1 \\\\\n",
       "-1 \\\\\n",
       "4\n",
       "\\end{array}\\right) = \\left(\\begin{array}{r}\n",
       "\\frac{1}{6} \\, \\sqrt{2} \\\\\n",
       "-\\frac{1}{6} \\, \\sqrt{2} \\\\\n",
       "\\frac{2}{3} \\, \\sqrt{2}\n",
       "\\end{array}\\right)</script></html>"
      ],
      "text/plain": [
       "\\overrightarrow{u}= 1/6*sqrt(2) [ 1]\n",
       "[-1]\n",
       "[ 4] = [ 1/6*sqrt(2)]\n",
       "[-1/6*sqrt(2)]\n",
       "[ 2/3*sqrt(2)]"
      ]
     },
     "metadata": {},
     "output_type": "display_data"
    },
    {
     "data": {
      "text/html": [
       "<html><script type=\"math/tex; mode=display\">\\newcommand{\\Bold}[1]{\\mathbf{#1}}\\left[\\left(\\begin{array}{r}\n",
       "0.707106781186548 \\\\\n",
       "0.707106781186548 \\\\\n",
       "0.000000000000000\n",
       "\\end{array}\\right), \\left(\\begin{array}{r}\n",
       "\\frac{1}{6} \\, \\sqrt{2} \\\\\n",
       "-\\frac{1}{6} \\, \\sqrt{2} \\\\\n",
       "\\frac{2}{3} \\, \\sqrt{2}\n",
       "\\end{array}\\right)\\right]</script></html>"
      ],
      "text/plain": [
       "[\n",
       "[0.707106781186548]  [ 1/6*sqrt(2)]\n",
       "[0.707106781186548]  [-1/6*sqrt(2)]\n",
       "[0.000000000000000], [ 2/3*sqrt(2)]\n",
       "]"
      ]
     },
     "metadata": {},
     "output_type": "display_data"
    },
    {
     "data": {
      "text/html": [
       "<html><script type=\"math/tex; mode=display\">\\newcommand{\\Bold}[1]{\\mathbf{#1}}U= \\left(\\begin{array}{rr}\n",
       "0.707106781186548 & 0.235702260395516 \\\\\n",
       "0.707106781186548 & -0.235702260395516 \\\\\n",
       "0.000000000000000 & 0.942809041582063\n",
       "\\end{array}\\right)</script></html>"
      ],
      "text/plain": [
       "U= [ 0.707106781186548  0.235702260395516]\n",
       "[ 0.707106781186548 -0.235702260395516]\n",
       "[ 0.000000000000000  0.942809041582063]"
      ]
     },
     "metadata": {},
     "output_type": "display_data"
    }
   ],
   "source": [
    "Q2AAT = Q2A * Q2A.transpose()\n",
    "Q2AAT = Q2AAT.change_ring(QQ)\n",
    "\n",
    "show(Q2AAT)\n",
    "show(Q2AAT.characteristic_polynomial())\n",
    "\n",
    "def SVD_U_reduced(AAT, eig_matrix):\n",
    "    var('l', latex_name=r'\\lambda')\n",
    "    vs = []\n",
    "    e = AAT.eigenvalues()\n",
    "    show(LatexExpr(\"\\lambda=\"), e[0])\n",
    "    u_1 = (1/sqrt(e[0])) * Q2A * Q2V[:,0]\n",
    "    show(1/sqrt(e[0]), Q2A, Q2V[:,0], LatexExpr(\"=\"), u_1)\n",
    "    vs.append(u_1.transpose())\n",
    "    \n",
    "    show(LatexExpr(\"\\lambda=\"), e[1])\n",
    "    show(eig_matrix(l=e[1]), LatexExpr(\"\\underrightarrow{RREF}\"), eig_matrix(l=e[1]).rref())\n",
    "    null_space = eig_matrix(l=e[1]).right_kernel_matrix()\n",
    "    factor = 1/sqrt(sum([(x)^2 for x in null_space.list()]))\n",
    "    show(LatexExpr(\"\\overrightarrow{u}=\"), factor, null_space.transpose(), LatexExpr(\"=\"), factor * null_space.transpose())\n",
    "    vs.append(factor * null_space)\n",
    "    show([x.transpose() for x in vs])\n",
    "    V = matrix(CC, [vector(x.transpose()) for x in vs]).transpose()\n",
    "    return V\n",
    "\n",
    "Q2U = SVD_U_reduced(Q2AAT, eigenvalue_matrix(Q2AAT))\n",
    "show(LatexExpr(\"U=\"),Q2U)"
   ]
  },
  {
   "cell_type": "code",
   "execution_count": 409,
   "metadata": {},
   "outputs": [
    {
     "data": {
      "text/html": [
       "<html><script type=\"math/tex; mode=display\">\\newcommand{\\Bold}[1]{\\mathbf{#1}}\\left(\\begin{array}{rr}\n",
       "3.00000000000000 & 2.00000000000000 \\\\\n",
       "2.00000000000000 & 3.00000000000000 \\\\\n",
       "2.00000000000000 & -2.00000000000000\n",
       "\\end{array}\\right)</script></html>"
      ],
      "text/plain": [
       "[ 3.00000000000000  2.00000000000000]\n",
       "[ 2.00000000000000  3.00000000000000]\n",
       "[ 2.00000000000000 -2.00000000000000]"
      ]
     },
     "metadata": {},
     "output_type": "display_data"
    }
   ],
   "source": [
    "show(Q2U * Q2SigmaFull.change_ring(CC) * Q2V.transpose())"
   ]
  },
  {
   "cell_type": "code",
   "execution_count": 438,
   "metadata": {},
   "outputs": [
    {
     "data": {
      "text/html": [
       "<html><script type=\"math/tex; mode=display\">\\newcommand{\\Bold}[1]{\\mathbf{#1}}\\left(\\begin{array}{rr}\n",
       "3 & 2 \\\\\n",
       "2 & 3 \\\\\n",
       "2 & -2\n",
       "\\end{array}\\right)</script></html>"
      ],
      "text/plain": [
       "[ 3  2]\n",
       "[ 2  3]\n",
       "[ 2 -2]"
      ]
     },
     "metadata": {},
     "output_type": "display_data"
    }
   ],
   "source": [
    "show(matrix([[sqrt(2)/2,sqrt(2)/6], [sqrt(2)/2,-sqrt(2)/6],[0,(2*sqrt(2))/3]])*matrix([[5,0],[0,3]])*matrix([[sqrt(2)/2,sqrt(2)/2],[sqrt(2)/2,-sqrt(2)/2]]))"
   ]
  },
  {
   "cell_type": "markdown",
   "metadata": {},
   "source": [
    "## Question 3"
   ]
  },
  {
   "cell_type": "code",
   "execution_count": 419,
   "metadata": {},
   "outputs": [
    {
     "data": {
      "text/html": [
       "<html><script type=\"math/tex; mode=display\">\\newcommand{\\Bold}[1]{\\mathbf{#1}}\\left(\\begin{array}{rrr}\n",
       "a e + b h & a f + b i & a g + b j \\\\\n",
       "c e + d h & c f + d i & c g + d j\n",
       "\\end{array}\\right)</script></html>"
      ],
      "text/plain": [
       "[a*e + b*h a*f + b*i a*g + b*j]\n",
       "[c*e + d*h c*f + d*i c*g + d*j]"
      ]
     },
     "metadata": {},
     "output_type": "display_data"
    }
   ],
   "source": [
    "var('a,b,c,d,e,f,g,h,i,j')\n",
    "Q3A = matrix([[a,b],[c,d]])\n",
    "Q3B = matrix([[e,f,g],[h,i,j]])\n",
    "show(Q3A * Q3B)"
   ]
  }
 ],
 "metadata": {
  "kernelspec": {
   "display_name": "SageMath 8.8",
   "language": "sage",
   "name": "sagemath"
  },
  "language_info": {
   "codemirror_mode": {
    "name": "ipython",
    "version": 2
   },
   "file_extension": ".py",
   "mimetype": "text/x-python",
   "name": "python",
   "nbconvert_exporter": "python",
   "pygments_lexer": "ipython2",
   "version": "2.7.15"
  }
 },
 "nbformat": 4,
 "nbformat_minor": 2
}
