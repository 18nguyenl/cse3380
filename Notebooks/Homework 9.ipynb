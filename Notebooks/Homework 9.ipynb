{
 "cells": [
  {
   "cell_type": "markdown",
   "metadata": {},
   "source": [
    "# Homework 9"
   ]
  },
  {
   "cell_type": "markdown",
   "metadata": {},
   "source": [
    "## Question 1"
   ]
  },
  {
   "cell_type": "code",
   "execution_count": 29,
   "metadata": {},
   "outputs": [
    {
     "data": {
      "text/html": [
       "<html><script type=\"math/tex; mode=display\">\\newcommand{\\Bold}[1]{\\mathbf{#1}}\\left(\\begin{array}{rr}\n",
       "18 & -4 \\\\\n",
       "-4 & 12\n",
       "\\end{array}\\right) \\begin{array}{l}\n",
       "\\phantom{\\verb!x!}\\\\\n",
       "\\phantom{\\verb!x!}\\\\\n",
       "\\phantom{\\verb!x!}\\\\\n",
       "\\phantom{\\verb!x!}\n",
       "\\end{array} \\left(\\begin{array}{rr}\n",
       "15 & -4 \\\\\n",
       "-4 & 15\n",
       "\\end{array}\\right)</script></html>"
      ],
      "text/plain": [
       "[18 -4]\n",
       "[-4 12] '\\n\\n\\n' [15 -4]\n",
       "[-4 15]"
      ]
     },
     "metadata": {},
     "output_type": "display_data"
    }
   ],
   "source": [
    "var('l')\n",
    "\n",
    "def is_eigenvector(A, v, eigenvalue):\n",
    "    return (A * v == eigenvalue * v)\n",
    "\n",
    "Q1A = matrix([[18,-4],[-4,12]])\n",
    "Q1B = matrix([[15,-4],[-4,15]])\n",
    "\n",
    "show(Q1A, '\\n\\n\\n', Q1B)"
   ]
  },
  {
   "cell_type": "code",
   "execution_count": 30,
   "metadata": {},
   "outputs": [
    {
     "data": {
      "text/html": [
       "<html><script type=\"math/tex; mode=display\">\\newcommand{\\Bold}[1]{\\mathbf{#1}}\\left[20, 10\\right]</script></html>"
      ],
      "text/plain": [
       "[20, 10]"
      ]
     },
     "metadata": {},
     "output_type": "display_data"
    },
    {
     "data": {
      "text/html": [
       "<html><script type=\"math/tex; mode=display\">\\newcommand{\\Bold}[1]{\\mathbf{#1}}30</script></html>"
      ],
      "text/plain": [
       "30"
      ]
     },
     "metadata": {},
     "output_type": "display_data"
    },
    {
     "data": {
      "text/html": [
       "<html><script type=\"math/tex; mode=display\">\\newcommand{\\Bold}[1]{\\mathbf{#1}}200</script></html>"
      ],
      "text/plain": [
       "200"
      ]
     },
     "metadata": {},
     "output_type": "display_data"
    },
    {
     "data": {
      "text/html": [
       "<html><script type=\"math/tex; mode=display\">\\newcommand{\\Bold}[1]{\\mathbf{#1}}\\mathrm{True}</script></html>"
      ],
      "text/plain": [
       "True"
      ]
     },
     "metadata": {},
     "output_type": "display_data"
    },
    {
     "data": {
      "text/html": [
       "<html><script type=\"math/tex; mode=display\">\\newcommand{\\Bold}[1]{\\mathbf{#1}}\\mathrm{True}</script></html>"
      ],
      "text/plain": [
       "True"
      ]
     },
     "metadata": {},
     "output_type": "display_data"
    }
   ],
   "source": [
    "show(Q1A.eigenvalues())\n",
    "show(Q1A.trace())\n",
    "show(Q1A.det())\n",
    "\n",
    "show(is_eigenvector(Q1A, vector([-2, 1]), Q1A.eigenvalues()[0]))\n",
    "show(is_eigenvector(Q1A, vector([1/2, 1]), Q1A.eigenvalues()[1]))"
   ]
  },
  {
   "cell_type": "code",
   "execution_count": 31,
   "metadata": {},
   "outputs": [
    {
     "data": {
      "text/html": [
       "<html><script type=\"math/tex; mode=display\">\\newcommand{\\Bold}[1]{\\mathbf{#1}}\\left[19, 11\\right]</script></html>"
      ],
      "text/plain": [
       "[19, 11]"
      ]
     },
     "metadata": {},
     "output_type": "display_data"
    },
    {
     "data": {
      "text/html": [
       "<html><script type=\"math/tex; mode=display\">\\newcommand{\\Bold}[1]{\\mathbf{#1}}30</script></html>"
      ],
      "text/plain": [
       "30"
      ]
     },
     "metadata": {},
     "output_type": "display_data"
    },
    {
     "data": {
      "text/html": [
       "<html><script type=\"math/tex; mode=display\">\\newcommand{\\Bold}[1]{\\mathbf{#1}}209</script></html>"
      ],
      "text/plain": [
       "209"
      ]
     },
     "metadata": {},
     "output_type": "display_data"
    }
   ],
   "source": [
    "show(Q1B.eigenvalues())\n",
    "show(Q1B.trace())\n",
    "show(Q1B.det())"
   ]
  },
  {
   "cell_type": "markdown",
   "metadata": {},
   "source": [
    "## Question 2"
   ]
  },
  {
   "cell_type": "code",
   "execution_count": 32,
   "metadata": {},
   "outputs": [
    {
     "data": {
      "text/html": [
       "<html><script type=\"math/tex; mode=display\">\\newcommand{\\Bold}[1]{\\mathbf{#1}}\\left(\\begin{array}{rrr}\n",
       "8 & 0 & -5 \\\\\n",
       "9 & -1 & -5 \\\\\n",
       "14 & -4 & -7\n",
       "\\end{array}\\right) \\begin{array}{l}\n",
       "\\phantom{\\verb!x!}\\\\\n",
       "\\phantom{\\verb!x!}\\\\\n",
       "\\phantom{\\verb!x!}\\\\\n",
       "\\phantom{\\verb!x!}\n",
       "\\end{array} \\left(\\begin{array}{rrr}\n",
       "2 & -4 & 1 \\\\\n",
       "-1 & -1 & 1 \\\\\n",
       "4 & -4 & -1\n",
       "\\end{array}\\right)</script></html>"
      ],
      "text/plain": [
       "[ 8  0 -5]\n",
       "[ 9 -1 -5]\n",
       "[14 -4 -7] '\\n\\n\\n' [ 2 -4  1]\n",
       "[-1 -1  1]\n",
       "[ 4 -4 -1]"
      ]
     },
     "metadata": {},
     "output_type": "display_data"
    }
   ],
   "source": [
    "Q2A = matrix([[8,0,-5],[9,-1,-5],[14,-4,-7]])\n",
    "Q2B = matrix([[2,-4,1],[-1,-1,1],[4,-4,-1]])\n",
    "\n",
    "show(Q2A, '\\n\\n\\n', Q2B)"
   ]
  },
  {
   "cell_type": "code",
   "execution_count": 33,
   "metadata": {},
   "outputs": [
    {
     "data": {
      "text/html": [
       "<html><script type=\"math/tex; mode=display\">\\newcommand{\\Bold}[1]{\\mathbf{#1}}\\left[3, -1, -2\\right]</script></html>"
      ],
      "text/plain": [
       "[3, -1, -2]"
      ]
     },
     "metadata": {},
     "output_type": "display_data"
    },
    {
     "data": {
      "text/html": [
       "<html><script type=\"math/tex; mode=display\">\\newcommand{\\Bold}[1]{\\mathbf{#1}}\\verb|trace:| 0</script></html>"
      ],
      "text/plain": [
       "'trace:' 0"
      ]
     },
     "metadata": {},
     "output_type": "display_data"
    },
    {
     "data": {
      "text/html": [
       "<html><script type=\"math/tex; mode=display\">\\newcommand{\\Bold}[1]{\\mathbf{#1}}\\verb|determinant:| 6</script></html>"
      ],
      "text/plain": [
       "'determinant:' 6"
      ]
     },
     "metadata": {},
     "output_type": "display_data"
    },
    {
     "data": {
      "text/html": [
       "<html><script type=\"math/tex; mode=display\">\\newcommand{\\Bold}[1]{\\mathbf{#1}}\\mathrm{True}</script></html>"
      ],
      "text/plain": [
       "True"
      ]
     },
     "metadata": {},
     "output_type": "display_data"
    },
    {
     "data": {
      "text/html": [
       "<html><script type=\"math/tex; mode=display\">\\newcommand{\\Bold}[1]{\\mathbf{#1}}\\mathrm{True}</script></html>"
      ],
      "text/plain": [
       "True"
      ]
     },
     "metadata": {},
     "output_type": "display_data"
    },
    {
     "data": {
      "text/html": [
       "<html><script type=\"math/tex; mode=display\">\\newcommand{\\Bold}[1]{\\mathbf{#1}}\\mathrm{True}</script></html>"
      ],
      "text/plain": [
       "True"
      ]
     },
     "metadata": {},
     "output_type": "display_data"
    }
   ],
   "source": [
    "show(Q2A.eigenvalues())\n",
    "show('trace:', Q2A.trace())\n",
    "show('determinant:', Q2A.det())\n",
    "\n",
    "show(is_eigenvector(Q2A, vector([5/9,4/9,1]), Q2A.eigenvalues()[1]))\n",
    "show(is_eigenvector(Q2A, vector([1,1,1]), Q2A.eigenvalues()[0]))\n",
    "show(is_eigenvector(Q2A, vector([1/2,1/2,1]), Q2A.eigenvalues()[2]))"
   ]
  },
  {
   "cell_type": "code",
   "execution_count": 34,
   "metadata": {},
   "outputs": [
    {
     "data": {
      "text/html": [
       "<html><script type=\"math/tex; mode=display\">\\newcommand{\\Bold}[1]{\\mathbf{#1}}\\left[3, -1, -2\\right]</script></html>"
      ],
      "text/plain": [
       "[3, -1, -2]"
      ]
     },
     "metadata": {},
     "output_type": "display_data"
    },
    {
     "data": {
      "text/html": [
       "<html><script type=\"math/tex; mode=display\">\\newcommand{\\Bold}[1]{\\mathbf{#1}}0</script></html>"
      ],
      "text/plain": [
       "0"
      ]
     },
     "metadata": {},
     "output_type": "display_data"
    },
    {
     "data": {
      "text/html": [
       "<html><script type=\"math/tex; mode=display\">\\newcommand{\\Bold}[1]{\\mathbf{#1}}6</script></html>"
      ],
      "text/plain": [
       "6"
      ]
     },
     "metadata": {},
     "output_type": "display_data"
    }
   ],
   "source": [
    "show(Q2B.eigenvalues())\n",
    "show(Q2B.trace())\n",
    "show(Q2B.det())"
   ]
  },
  {
   "cell_type": "markdown",
   "metadata": {},
   "source": [
    "## Question 3"
   ]
  },
  {
   "cell_type": "code",
   "execution_count": 35,
   "metadata": {},
   "outputs": [
    {
     "name": "stdout",
     "output_type": "stream",
     "text": [
      "part a: shifted points\n",
      "[[-2.90909091 -1.72727273]\n",
      " [-0.90909091 -1.72727273]\n",
      " [-1.90909091 -0.72727273]\n",
      " [ 0.09090909 -0.72727273]\n",
      " [ 1.09090909 -0.72727273]\n",
      " [-0.90909091  0.27272727]\n",
      " [ 0.09090909  0.27272727]\n",
      " [ 2.09090909  0.27272727]\n",
      " [ 0.09090909  1.27272727]\n",
      " [ 1.09090909  1.27272727]\n",
      " [ 2.09090909  2.27272727]]\n",
      "\n",
      "part b: covariance matrix\n",
      "[[24.90909091 13.72727273]\n",
      " [13.72727273 16.18181818]]\n",
      "\n",
      "part c: first principal component\n",
      "[0.80713789 0.59036296]\n"
     ]
    },
    {
     "data": {
      "image/png": "[encoded data removed]",
      "text/plain": [
       "<Figure size 432x288 with 1 Axes>"
      ]
     },
     "metadata": {},
     "output_type": "display_data"
    }
   ],
   "source": [
    "import numpy as np\n",
    "import matplotlib.pyplot as plt\n",
    "\n",
    "\n",
    "def findPCA(points) :\n",
    "    \"\"\"  student fills this in\n",
    "    \"\"\"\n",
    "    \n",
    "    mean = np.mean(points, axis=0)\n",
    "    \n",
    "    shiftedPoints = points - mean\n",
    "    \n",
    "    covMatrix = shiftedPoints.transpose().dot(shiftedPoints)\n",
    "    \n",
    "    eigenvalues, eigenvectors = np.linalg.eig(covMatrix)\n",
    "    \n",
    "    indices = abs(eigenvalues).argsort()[::-1]\n",
    "    \n",
    "    eigenvalues = abs(eigenvalues)[indices]\n",
    "    eigenvectors = abs(eigenvectors)[:, indices]\n",
    "    \n",
    "    fpc = eigenvectors[0]\n",
    "    \n",
    "    return [shiftedPoints, covMatrix, fpc]\n",
    "\n",
    "def plotPCA(points, fpc) :\n",
    "    x = points[:, 0];   # make plotting easier to write\n",
    "    y = points[:, 1];\n",
    "\n",
    "    plt.plot(x, y, '.')\n",
    "    mult = 10\n",
    "    fpcX = fpc[0]\n",
    "    fpcY = fpc[1]\n",
    "\n",
    "    plt.plot([-mult*fpcX, mult*fpcX], [-mult*fpcY, mult*fpcY], 'm-')\n",
    "\n",
    "    xmin = min(x) - 1\n",
    "    xmax = max(x) + 1\n",
    "    ymin = min(y) - 1\n",
    "    ymax = max(y) + 1\n",
    "    plt.axis([xmin, xmax, ymin, ymax])\n",
    "    plt.title(\"points and first principal component\")\n",
    "\n",
    "    # from https://stackoverflow.com/questions/16183462/saving-images-in-python-at-a-very-high-quality\n",
    "    #plt.savefig('pca.eps', format='eps', dpi=1000)\n",
    "\n",
    "    plt.show()     # this causes the plot to display\n",
    "\n",
    "\n",
    "######   main   ######\n",
    "points = np.array([[2, 4, 3, 5, 6, 4, 5, 7, 5, 6, 7],\n",
    "                   [2, 2, 3, 3, 3, 4, 4, 4, 5, 5, 6]]).T # the .T makes nx2\n",
    "\n",
    "shiftedPoints, covMatrix, fpc = findPCA(points)\n",
    "#        points : nx2 matrix (i.e., 2D Numpy array)\n",
    "# shiftedPoints : nx2 matrix (i.e., 2D Numpy array)\n",
    "#     covMatrix : 2x2 matrix (i.e., 2D Numpy array)\n",
    "#           fpc : vector (i.e., 1D Numpy array)\n",
    "\n",
    "print(\"part a: shifted points\")\n",
    "print(shiftedPoints)\n",
    "\n",
    "print(\"\\npart b: covariance matrix\")\n",
    "print(covMatrix)\n",
    "\n",
    "print(\"\\npart c: first principal component\")\n",
    "print(fpc)\n",
    "\n",
    "plotPCA(points, fpc)"
   ]
  }
 ],
 "metadata": {
  "kernelspec": {
   "display_name": "SageMath 8.8",
   "language": "sage",
   "name": "sagemath"
  },
  "language_info": {
   "codemirror_mode": {
    "name": "ipython",
    "version": 2
   },
   "file_extension": ".py",
   "mimetype": "text/x-python",
   "name": "python",
   "nbconvert_exporter": "python",
   "pygments_lexer": "ipython2",
   "version": "2.7.15"
  }
 },
 "nbformat": 4,
 "nbformat_minor": 2
}
