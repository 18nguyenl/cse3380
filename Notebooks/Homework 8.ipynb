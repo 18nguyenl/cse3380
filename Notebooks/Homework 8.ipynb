{
 "cells": [
  {
   "cell_type": "code",
   "execution_count": 7,
   "metadata": {},
   "outputs": [
    {
     "data": {
      "text/html": [
       "<html><script type=\"math/tex; mode=display\">\\newcommand{\\Bold}[1]{\\mathbf{#1}}\\left(\\begin{array}{rr}\n",
       "1 & 0 \\\\\n",
       "0 & -1 \\\\\n",
       "1 & 1\n",
       "\\end{array}\\right)</script></html>"
      ],
      "text/plain": [
       "[ 1  0]\n",
       "[ 0 -1]\n",
       "[ 1  1]"
      ]
     },
     "metadata": {},
     "output_type": "display_data"
    },
    {
     "data": {
      "text/html": [
       "<html><script type=\"math/tex; mode=display\">\\newcommand{\\Bold}[1]{\\mathbf{#1}}\\left(2,\\,1,\\,3\\right)</script></html>"
      ],
      "text/plain": [
       "(2, 1, 3)"
      ]
     },
     "metadata": {},
     "output_type": "display_data"
    }
   ],
   "source": [
    "import numpy as np\n",
    "import matplotlib.pyplot as plt\n",
    "\n",
    "# From https://blogs.uoregon.edu/math342sp16lipshitz/sample-page/least-squares-fourier-series/\n",
    "def least_squares(A,v):\n",
    "     return (A.transpose()*A).solve_right(A.transpose()*v)\n",
    "\n",
    "Q1A = matrix([[1, 0], [0, -1], [1, 1]])\n",
    "Q1b = vector([2,1,3])\n",
    "\n",
    "show(Q1A)\n",
    "show(Q1b)"
   ]
  },
  {
   "cell_type": "code",
   "execution_count": 14,
   "metadata": {},
   "outputs": [
    {
     "data": {
      "text/html": [
       "<html><script type=\"math/tex; mode=display\">\\newcommand{\\Bold}[1]{\\mathbf{#1}}\\left(\\frac{8}{3},\\,-\\frac{1}{3}\\right)</script></html>"
      ],
      "text/plain": [
       "(8/3, -1/3)"
      ]
     },
     "metadata": {},
     "output_type": "display_data"
    },
    {
     "data": {
      "text/html": [
       "<html><script type=\"math/tex; mode=display\">\\newcommand{\\Bold}[1]{\\mathbf{#1}}\\verb|[|\\phantom{\\verb!x!}\\verb|2.66666667|\\phantom{\\verb!x!}\\verb|-0.33333333]|</script></html>"
      ],
      "text/plain": [
       "array([ 2.66666667, -0.33333333])"
      ]
     },
     "metadata": {},
     "output_type": "display_data"
    }
   ],
   "source": [
    "show(least_squares(Q1A, Q1b))\n",
    "show(np.linalg.lstsq(Q1A, Q1b, rcond=None)[0])"
   ]
  },
  {
   "cell_type": "markdown",
   "metadata": {},
   "source": [
    "## Question 2"
   ]
  },
  {
   "cell_type": "code",
   "execution_count": 16,
   "metadata": {},
   "outputs": [
    {
     "data": {
      "text/html": [
       "<html><script type=\"math/tex; mode=display\">\\newcommand{\\Bold}[1]{\\mathbf{#1}}\\left(\\begin{array}{rr}\n",
       "1 & -1 \\\\\n",
       "2 & 0 \\\\\n",
       "1 & 3\n",
       "\\end{array}\\right)</script></html>"
      ],
      "text/plain": [
       "[ 1 -1]\n",
       "[ 2  0]\n",
       "[ 1  3]"
      ]
     },
     "metadata": {},
     "output_type": "display_data"
    },
    {
     "data": {
      "text/html": [
       "<html><script type=\"math/tex; mode=display\">\\newcommand{\\Bold}[1]{\\mathbf{#1}}\\left(0,\\,8,\\,20\\right)</script></html>"
      ],
      "text/plain": [
       "(0, 8, 20)"
      ]
     },
     "metadata": {},
     "output_type": "display_data"
    }
   ],
   "source": [
    "Q2A = matrix([[1,-1],[2,0],[1,3]])\n",
    "Q2b = vector([0,8,20])\n",
    "\n",
    "show(Q2A)\n",
    "show(Q2b)"
   ]
  },
  {
   "cell_type": "code",
   "execution_count": 17,
   "metadata": {},
   "outputs": [
    {
     "data": {
      "text/html": [
       "<html><script type=\"math/tex; mode=display\">\\newcommand{\\Bold}[1]{\\mathbf{#1}}\\left(\\frac{30}{7},\\,\\frac{36}{7}\\right)</script></html>"
      ],
      "text/plain": [
       "(30/7, 36/7)"
      ]
     },
     "metadata": {},
     "output_type": "display_data"
    },
    {
     "data": {
      "text/html": [
       "<html><script type=\"math/tex; mode=display\">\\newcommand{\\Bold}[1]{\\mathbf{#1}}\\left(4.28571428571429,\\,5.14285714285714\\right)</script></html>"
      ],
      "text/plain": [
       "(4.28571428571429, 5.14285714285714)"
      ]
     },
     "metadata": {},
     "output_type": "display_data"
    },
    {
     "data": {
      "text/html": [
       "<html><script type=\"math/tex; mode=display\">\\newcommand{\\Bold}[1]{\\mathbf{#1}}\\verb|[4.28571429|\\phantom{\\verb!x!}\\verb|5.14285714]|</script></html>"
      ],
      "text/plain": [
       "array([4.28571429, 5.14285714])"
      ]
     },
     "metadata": {},
     "output_type": "display_data"
    }
   ],
   "source": [
    "show(least_squares(Q2A, Q2b))\n",
    "show(n(least_squares(Q2A, Q2b)))\n",
    "show(np.linalg.lstsq(Q2A, Q2b, rcond=None)[0])"
   ]
  },
  {
   "cell_type": "markdown",
   "metadata": {},
   "source": [
    "## Question 3"
   ]
  },
  {
   "cell_type": "code",
   "execution_count": 19,
   "metadata": {},
   "outputs": [
    {
     "data": {
      "text/html": [
       "<html><script type=\"math/tex; mode=display\">\\newcommand{\\Bold}[1]{\\mathbf{#1}}\\left(\\begin{array}{rr}\n",
       "2 & 1 \\\\\n",
       "1 & 2 \\\\\n",
       "2 & 1\n",
       "\\end{array}\\right)</script></html>"
      ],
      "text/plain": [
       "[2 1]\n",
       "[1 2]\n",
       "[2 1]"
      ]
     },
     "metadata": {},
     "output_type": "display_data"
    },
    {
     "data": {
      "text/html": [
       "<html><script type=\"math/tex; mode=display\">\\newcommand{\\Bold}[1]{\\mathbf{#1}}\\left(3,\\,4,\\,3\\right)</script></html>"
      ],
      "text/plain": [
       "(3, 4, 3)"
      ]
     },
     "metadata": {},
     "output_type": "display_data"
    }
   ],
   "source": [
    "Q3A = matrix([[2,1],[1,2],[2,1]])\n",
    "Q3b = vector([3,4,3])\n",
    "\n",
    "show(Q3A)\n",
    "show(Q3b)"
   ]
  },
  {
   "cell_type": "code",
   "execution_count": 20,
   "metadata": {},
   "outputs": [
    {
     "data": {
      "text/html": [
       "<html><script type=\"math/tex; mode=display\">\\newcommand{\\Bold}[1]{\\mathbf{#1}}\\left(\\frac{2}{3},\\,\\frac{5}{3}\\right)</script></html>"
      ],
      "text/plain": [
       "(2/3, 5/3)"
      ]
     },
     "metadata": {},
     "output_type": "display_data"
    },
    {
     "data": {
      "text/html": [
       "<html><script type=\"math/tex; mode=display\">\\newcommand{\\Bold}[1]{\\mathbf{#1}}\\left(0.666666666666667,\\,1.66666666666667\\right)</script></html>"
      ],
      "text/plain": [
       "(0.666666666666667, 1.66666666666667)"
      ]
     },
     "metadata": {},
     "output_type": "display_data"
    },
    {
     "data": {
      "text/html": [
       "<html><script type=\"math/tex; mode=display\">\\newcommand{\\Bold}[1]{\\mathbf{#1}}\\verb|[0.66666667|\\phantom{\\verb!x!}\\verb|1.66666667]|</script></html>"
      ],
      "text/plain": [
       "array([0.66666667, 1.66666667])"
      ]
     },
     "metadata": {},
     "output_type": "display_data"
    }
   ],
   "source": [
    "show(least_squares(Q3A, Q3b))\n",
    "show(n(least_squares(Q3A, Q3b)))\n",
    "show(np.linalg.lstsq(Q3A, Q3b, rcond=None)[0])"
   ]
  },
  {
   "cell_type": "markdown",
   "metadata": {},
   "source": [
    "## Question 4"
   ]
  },
  {
   "cell_type": "code",
   "execution_count": 45,
   "metadata": {},
   "outputs": [
    {
     "data": {
      "text/html": [
       "<html><script type=\"math/tex; mode=display\">\\newcommand{\\Bold}[1]{\\mathbf{#1}}x \\ {\\mapsto}\\ a x + b</script></html>"
      ],
      "text/plain": [
       "x |--> a*x + b"
      ]
     },
     "metadata": {},
     "output_type": "display_data"
    },
    {
     "data": {
      "image/png": "[encoded data removed]",
      "text/plain": [
       "Graphics object consisting of 2 graphics primitives"
      ]
     },
     "metadata": {},
     "output_type": "display_data"
    },
    {
     "data": {
      "text/html": [
       "<html><script type=\"math/tex; mode=display\">\\newcommand{\\Bold}[1]{\\mathbf{#1}}\\left\\{b : 0.6666666666659395, a : 0.6666666666659397\\right\\}</script></html>"
      ],
      "text/plain": [
       "{b: 0.6666666666659395, a: 0.6666666666659397}"
      ]
     },
     "metadata": {},
     "output_type": "display_data"
    }
   ],
   "source": [
    "var('a,b,x')\n",
    "linear_model(x) = a*x + b\n",
    "\n",
    "Q4points = matrix([[1,1],[2,2],[4,4],[7,5]])\n",
    "Q4fit = find_fit(Q4points, linear_model, solution_dict=True)\n",
    "\n",
    "show(linear_model)\n",
    "\n",
    "show(points(Q4points, color='blue') + plot(\n",
    "    linear_model(\n",
    "        a=Q4fit[a],\n",
    "        b=Q4fit[b],\n",
    "    ),\n",
    "    (x, 0, 10,),\n",
    "    color='red'\n",
    "))\n",
    "\n",
    "show(Q4fit)"
   ]
  },
  {
   "cell_type": "markdown",
   "metadata": {},
   "source": [
    "### More manually using code"
   ]
  },
  {
   "cell_type": "code",
   "execution_count": 22,
   "metadata": {},
   "outputs": [
    {
     "data": {
      "text/html": [
       "<html><script type=\"math/tex; mode=display\">\\newcommand{\\Bold}[1]{\\mathbf{#1}}\\left(\\begin{array}{rr}\n",
       "1 & 1 \\\\\n",
       "1 & 2 \\\\\n",
       "1 & 4 \\\\\n",
       "1 & 7\n",
       "\\end{array}\\right)</script></html>"
      ],
      "text/plain": [
       "[1 1]\n",
       "[1 2]\n",
       "[1 4]\n",
       "[1 7]"
      ]
     },
     "metadata": {},
     "output_type": "display_data"
    },
    {
     "data": {
      "text/html": [
       "<html><script type=\"math/tex; mode=display\">\\newcommand{\\Bold}[1]{\\mathbf{#1}}\\left(1,\\,2,\\,4,\\,5\\right)</script></html>"
      ],
      "text/plain": [
       "(1, 2, 4, 5)"
      ]
     },
     "metadata": {},
     "output_type": "display_data"
    }
   ],
   "source": [
    "Q4A = matrix([[1,1],[1,2],[1,4],[1,7]])\n",
    "Q4b = vector([1,2,4,5])\n",
    "\n",
    "show(Q4A)\n",
    "show(Q4b)"
   ]
  },
  {
   "cell_type": "code",
   "execution_count": 23,
   "metadata": {},
   "outputs": [
    {
     "data": {
      "text/html": [
       "<html><script type=\"math/tex; mode=display\">\\newcommand{\\Bold}[1]{\\mathbf{#1}}\\left(\\frac{2}{3},\\,\\frac{2}{3}\\right)</script></html>"
      ],
      "text/plain": [
       "(2/3, 2/3)"
      ]
     },
     "metadata": {},
     "output_type": "display_data"
    },
    {
     "data": {
      "text/html": [
       "<html><script type=\"math/tex; mode=display\">\\newcommand{\\Bold}[1]{\\mathbf{#1}}\\left(0.666666666666667,\\,0.666666666666667\\right)</script></html>"
      ],
      "text/plain": [
       "(0.666666666666667, 0.666666666666667)"
      ]
     },
     "metadata": {},
     "output_type": "display_data"
    },
    {
     "data": {
      "text/html": [
       "<html><script type=\"math/tex; mode=display\">\\newcommand{\\Bold}[1]{\\mathbf{#1}}\\verb|[0.66666667|\\phantom{\\verb!x!}\\verb|0.66666667]|</script></html>"
      ],
      "text/plain": [
       "array([0.66666667, 0.66666667])"
      ]
     },
     "metadata": {},
     "output_type": "display_data"
    }
   ],
   "source": [
    "show(least_squares(Q4A, Q4b))\n",
    "show(n(least_squares(Q4A, Q4b)))\n",
    "show(np.linalg.lstsq(Q4A, Q4b, rcond=None)[0])"
   ]
  },
  {
   "cell_type": "markdown",
   "metadata": {},
   "source": [
    "## Question 5"
   ]
  },
  {
   "cell_type": "code",
   "execution_count": 3,
   "metadata": {},
   "outputs": [
    {
     "data": {
      "text/html": [
       "<html><script type=\"math/tex; mode=display\">\\newcommand{\\Bold}[1]{\\mathbf{#1}}\\left(\\begin{array}{rr}\n",
       "a & b \\\\\n",
       "c & d \\\\\n",
       "e & f\n",
       "\\end{array}\\right)</script></html>"
      ],
      "text/plain": [
       "[a b]\n",
       "[c d]\n",
       "[e f]"
      ]
     },
     "metadata": {},
     "output_type": "display_data"
    },
    {
     "data": {
      "text/html": [
       "<html><script type=\"math/tex; mode=display\">\\newcommand{\\Bold}[1]{\\mathbf{#1}}\\left(\\begin{array}{rrr}\n",
       "a & c & e \\\\\n",
       "b & d & f\n",
       "\\end{array}\\right)</script></html>"
      ],
      "text/plain": [
       "[a c e]\n",
       "[b d f]"
      ]
     },
     "metadata": {},
     "output_type": "display_data"
    },
    {
     "data": {
      "text/html": [
       "<html><script type=\"math/tex; mode=display\">\\newcommand{\\Bold}[1]{\\mathbf{#1}}\\left(\\begin{array}{rr}\n",
       "a^{2} + c^{2} + e^{2} & a b + c d + e f \\\\\n",
       "a b + c d + e f & b^{2} + d^{2} + f^{2}\n",
       "\\end{array}\\right)</script></html>"
      ],
      "text/plain": [
       "[a^2 + c^2 + e^2 a*b + c*d + e*f]\n",
       "[a*b + c*d + e*f b^2 + d^2 + f^2]"
      ]
     },
     "metadata": {},
     "output_type": "display_data"
    },
    {
     "data": {
      "text/html": [
       "<html><script type=\"math/tex; mode=display\">\\newcommand{\\Bold}[1]{\\mathbf{#1}}a b + c d + e f = a b + c d + e f</script></html>"
      ],
      "text/plain": [
       "a*b + c*d + e*f == a*b + c*d + e*f"
      ]
     },
     "metadata": {},
     "output_type": "display_data"
    }
   ],
   "source": [
    "var('a,b,c,d,e,f')\n",
    "\n",
    "Q5A = matrix([[a,b],[c,d],[e,f]])\n",
    "\n",
    "Q5AT = Q5A.transpose()\n",
    "\n",
    "show(Q5A)\n",
    "show(Q5AT)\n",
    "\n",
    "Q5ATA = Q5AT * Q5A\n",
    "\n",
    "show(Q5ATA)\n",
    "show(Q5ATA[0][1]==Q5ATA[1][0])"
   ]
  },
  {
   "cell_type": "markdown",
   "metadata": {},
   "source": [
    "## Question 6"
   ]
  },
  {
   "cell_type": "code",
   "execution_count": 56,
   "metadata": {},
   "outputs": [
    {
     "data": {
      "text/html": [
       "<html><script type=\"math/tex; mode=display\">\\newcommand{\\Bold}[1]{\\mathbf{#1}}\\left(\\begin{array}{rrr}\n",
       "a & b & a + b \\\\\n",
       "d & e & d + e\n",
       "\\end{array}\\right)</script></html>"
      ],
      "text/plain": [
       "[    a     b a + b]\n",
       "[    d     e d + e]"
      ]
     },
     "metadata": {},
     "output_type": "display_data"
    },
    {
     "data": {
      "text/html": [
       "<html><script type=\"math/tex; mode=display\">\\newcommand{\\Bold}[1]{\\mathbf{#1}}\\left(\\begin{array}{rr}\n",
       "a & d \\\\\n",
       "b & e \\\\\n",
       "a + b & d + e\n",
       "\\end{array}\\right)</script></html>"
      ],
      "text/plain": [
       "[    a     d]\n",
       "[    b     e]\n",
       "[a + b d + e]"
      ]
     },
     "metadata": {},
     "output_type": "display_data"
    },
    {
     "data": {
      "text/html": [
       "<html><script type=\"math/tex; mode=display\">\\newcommand{\\Bold}[1]{\\mathbf{#1}}\\left(\\begin{array}{rrr}\n",
       "a^{2} + d^{2} & a b + d e & {\\left(a + b\\right)} a + {\\left(d + e\\right)} d \\\\\n",
       "a b + d e & b^{2} + e^{2} & {\\left(a + b\\right)} b + {\\left(d + e\\right)} e \\\\\n",
       "{\\left(a + b\\right)} a + {\\left(d + e\\right)} d & {\\left(a + b\\right)} b + {\\left(d + e\\right)} e & {\\left(a + b\\right)}^{2} + {\\left(d + e\\right)}^{2}\n",
       "\\end{array}\\right)</script></html>"
      ],
      "text/plain": [
       "[            a^2 + d^2             a*b + d*e (a + b)*a + (d + e)*d]\n",
       "[            a*b + d*e             b^2 + e^2 (a + b)*b + (d + e)*e]\n",
       "[(a + b)*a + (d + e)*d (a + b)*b + (d + e)*e (a + b)^2 + (d + e)^2]"
      ]
     },
     "metadata": {},
     "output_type": "display_data"
    },
    {
     "data": {
      "text/html": [
       "<html><script type=\"math/tex; mode=display\">\\newcommand{\\Bold}[1]{\\mathbf{#1}}\\begin{array}{l}\n",
       "\\verb|Show|\\phantom{\\verb!x!}\\verb|that|\\phantom{\\verb!x!}\\verb|it|\\phantom{\\verb!x!}\\verb|is|\\phantom{\\verb!x!}\\verb|linearly|\\phantom{\\verb!x!}\\verb|dependent|\\\\\n",
       "\\phantom{\\verb!x!}\n",
       "\\end{array}</script></html>"
      ],
      "text/plain": [
       "'Show that it is linearly dependent\\n'"
      ]
     },
     "metadata": {},
     "output_type": "display_data"
    },
    {
     "data": {
      "text/html": [
       "<html><script type=\"math/tex; mode=display\">\\newcommand{\\Bold}[1]{\\mathbf{#1}}a^{2} + 2 \\, a b + b^{2} + d^{2} + 2 \\, d e + e^{2} = a^{2} + 2 \\, a b + b^{2} + d^{2} + 2 \\, d e + e^{2}</script></html>"
      ],
      "text/plain": [
       "a^2 + 2*a*b + b^2 + d^2 + 2*d*e + e^2 == a^2 + 2*a*b + b^2 + d^2 + 2*d*e + e^2"
      ]
     },
     "metadata": {},
     "output_type": "display_data"
    }
   ],
   "source": [
    "## var('a,b,c,d,e,f')\n",
    "Q6A = matrix([[a,b,a + b],[d,e,d+e]])\n",
    "Q6AT = Q6A.transpose()\n",
    "\n",
    "show(Q6A)\n",
    "show(Q6AT)\n",
    "\n",
    "Q6ATA = Q6AT*Q6A\n",
    "\n",
    "show(Q6ATA)\n",
    "\n",
    "show(\"Show that it is linearly dependent\\n\")\n",
    "#show(Q6ATA.augment(vector([0,0,0])).rref())\n",
    "#show(Q6A.rank(), Q6AT.rank(), Q6ATA.rank())\n",
    "show(expand(Q6ATA[0][2] + Q6ATA[1][2])==expand(Q6ATA[2][2]))"
   ]
  },
  {
   "cell_type": "markdown",
   "metadata": {},
   "source": [
    "## Question 7"
   ]
  },
  {
   "cell_type": "code",
   "execution_count": 8,
   "metadata": {},
   "outputs": [
    {
     "name": "stdout",
     "output_type": "stream",
     "text": [
      "*** dataset 1 ***\n",
      "linear:\n",
      "f(t) = 4.289703 t + 49.660050\n",
      "||b - Ax|| = 141.932121\n",
      "\n",
      "quadratic:\n",
      "f(t) = -2.014952 t^2 + 25.084056 t + 11.068019\n",
      "||b - Ax|| = 16.100444\n",
      "\n",
      "\n",
      "*** dataset 2 ***\n",
      "linear:\n",
      "f(t) = -5.042689 t + 21.242434\n",
      "||b - Ax|| = 16.073925\n",
      "\n",
      "quadratic:\n",
      "f(t) = -0.041754 t^2 + -4.628278 t + 20.587832\n",
      "||b - Ax|| = 15.753764\n",
      "\n",
      "\n"
     ]
    },
    {
     "data": {
      "image/png": "[encoded data removed]",
      "text/plain": [
       "<Figure size 432x288 with 1 Axes>"
      ]
     },
     "metadata": {},
     "output_type": "display_data"
    },
    {
     "data": {
      "image/png": "[encoded data removed]",
      "text/plain": [
       "<Figure size 432x288 with 1 Axes>"
      ]
     },
     "metadata": {},
     "output_type": "display_data"
    }
   ],
   "source": [
    "def applyLS(t, bhat) :\n",
    "    \"\"\" fits linear and quadratic models to data using least squares\n",
    "\n",
    "    parameters:     1D numpy array, 1D numpy array\n",
    "    return values:  1D numpy array, float, 1D numpy array, float\n",
    "    \"\"\"\n",
    "\n",
    "    # student code goes here\n",
    "    A_linear = np.array([np.ones(len(t)), t]).transpose()\n",
    "    b = np.array(bhat)\n",
    "\n",
    "    x_lin = np.linalg.lstsq(A_linear, b, rcond=None)[0]\n",
    "    norm_lin = np.linalg.norm(b-(A_linear.dot(x_lin)))\n",
    "    \n",
    "    A_quadratic = np.array([np.ones(len(t)), t, t ** 2]).transpose()\n",
    "\n",
    "    x_q = np.linalg.lstsq(A_quadratic, b, rcond=None)[0]\n",
    "    norm_q = np.linalg.norm(b-(A_quadratic.dot(x_q)))\n",
    "\n",
    "    return np.array([x_lin, norm_lin, x_q, norm_q])\n",
    "\n",
    "def printResults(name, t, ft, x_lin, norm_l, x_q, norm_q) :\n",
    "    # do not change this function\n",
    "    print(\"*** %s ***\" % name)\n",
    "    print(\"linear:\")\n",
    "    print(\"f(t) = %f t + %f\" % (x_lin[1], x_lin[0]) )\n",
    "    print(\"||b - Ax|| = %f\\n\" % norm_l )\n",
    "    \n",
    "    print(\"quadratic:\")\n",
    "    print(\"f(t) = %f t^2 + %f t + %f\" % (x_q[2], x_q[1], x_q[0]) )\n",
    "    print(\"||b - Ax|| = %f\" % norm_q )\n",
    "    \n",
    "    print(\"\\n\")\n",
    "    \n",
    "    plt.figure()\n",
    "    plt.plot(t, ft, 'o')\n",
    "    plt.title(name)\n",
    "\n",
    "\n",
    "##########################################################\n",
    "\"\"\"\n",
    "    DO NOT CHANGE THE CODE BELOW\n",
    "\n",
    "    a) you will put your logic in applyLS()\n",
    "    b) you should look at the function calls below to get a better understanding\n",
    "       of what the function receives and returns\n",
    "    c) pay particular attention to the order of the model coefficients in the\n",
    "       array (i.e, vector) in which they are returned\n",
    "\"\"\"\n",
    "if __name__ == \"__main__\":\n",
    "    # data set 1 for producing functions of the form\n",
    "    #   f(t) = a_0 + a_1t + a_2t^2 + ...\n",
    "    t1 = np.array([6.4, 3.8, 8.1, 5.3, 3.5, 9.4, 8.8, 5.5, 6.2, 5.9, 2.1, \\\n",
    "                   3.0, 4.7, 2.3, 8.4, 1.9, 2.3, 1.7, 2.3, 4.4, 3.1, 9.2, \\\n",
    "                   4.3, 1.8, 9.0, 9.8, 4.4, 1.1, 2.6, 4.1, 5.9, 2.6, 6.0, \\\n",
    "                   7.1, 2.2, 1.2, 3.0, 3.2, 4.2, 5.1, 0.9, 2.6, 8.0, 0.3, \\\n",
    "                   9.3, 7.3, 4.9, 5.8, 2.4, 4.6, 9.6, 5.5, 5.2, 2.3, 4.9, \\\n",
    "                   6.2, 6.8, 4.0, 3.7, 9.9, 0.4, 8.9, 9.1, 8.0, 1.0, 2.6, \\\n",
    "                   3.4, 6.8, 1.4, 7.2, 1.1, 6.5, 4.9, 7.8, 7.2, 9.0, 8.9, \\\n",
    "                   3.3, 7.0, 2.0, 0.3, 7.4, 5.0, 4.8, 9.0, 6.1, 6.2, 8.6, \\\n",
    "                   8.1, 5.8, 1.8, 2.4, 8.9, 0.3, 4.9, 1.7, 9.8, 7.1, 5.0, 4.7])\n",
    "    \n",
    "    ft1 = np.array([89.08, 79.12, 80.28, 87.32, 76.00, 67.28, 76.12, 90.00, \\\n",
    "                    87.12, 88.88, 56.68, 66.00, 84.32, 59.92, 77.88, 51.28, \\\n",
    "                    59.92, 45.72, 57.92, 84.28, 67.28, 71.72, 83.52, 47.52, \\\n",
    "                    74.00, 65.92, 80.28, 36.08, 64.48, 77.88, 88.88, 64.48, \\\n",
    "                    87.00, 87.68, 58.32, 36.12, 68.00, 72.52, 78.72, 86.48, \\\n",
    "                    33.88, 60.48, 83.00, 20.32, 68.52, 86.92, 87.48, 86.72, \\\n",
    "                    59.48, 85.68, 64.68, 88.00, 88.92, 55.92, 85.48, 91.12, \\\n",
    "                    86.52, 79.00, 78.12, 60.48, 20.68, 77.08, 70.88, 83.00, \\\n",
    "                    36.00, 60.48, 72.88, 90.52, 40.08, 87.32, 38.08, 87.00, \\\n",
    "                    85.48, 86.32, 85.32, 74.00, 77.08, 69.72, 88.00, 55.00, \\\n",
    "                    16.32, 86.48, 88.00, 82.92, 74.00, 91.08, 87.12, 78.08, \\\n",
    "                    84.28, 86.72, 49.52, 61.48, 73.08, 18.32, 87.48, 45.72, \\\n",
    "                    63.92, 89.68, 84.00, 84.32])\n",
    "        \n",
    "    \n",
    "    x_lin, norm_l, x_q, norm_q = applyLS(t1, ft1)\n",
    "    printResults(\"dataset 1\", t1, ft1, x_lin, norm_l, x_q, norm_q)\n",
    "    \n",
    "    \n",
    "    # data set 2 for producing functions of the form\n",
    "    #   f(t) = a_0 + a_1t + a_2t^2 + ...\n",
    "    t2 = np.array([8.5, 5.6, 9.3, 7.0, 5.8, 8.2, 8.8, 9.9, 0.0, 8.7, 6.1, \\\n",
    "                   9.9, 5.3, 4.8, 8.0, 2.3, 5.0, 9.0, 5.7, 8.5, 7.4, 5.9, \\\n",
    "                   2.5, 6.7, 0.8, 6.3, 6.6, 7.3, 8.9, 9.8, 7.7, 5.8, 9.3, \\\n",
    "                   5.8, 0.2, 1.2, 8.6, 4.8, 8.4, 2.1, 5.5, 6.3, 0.3, 6.1, \\\n",
    "                   3.6, 0.5, 4.9, 1.9, 1.2, 2.1, 1.5, 1.9, 0.4, 6.4, 2.8, \\\n",
    "                   5.4, 7.0, 5.0, 5.4, 4.5, 1.2, 4.9, 8.5, 8.7, 2.7, 2.1, \\\n",
    "                   5.6, 6.4, 4.2, 2.1, 9.5, 0.8, 1.1, 1.4, 1.7, 6.2, 5.7, \\\n",
    "                   0.5, 9.3, 7.3, 7.4, 0.6, 8.6, 9.3, 9.8, 8.6, 7.9, 5.1, \\\n",
    "                   1.8, 4.0, 1.3, 0.3, 9.4, 3.0, 3.0, 3.3, 4.7, 6.5])\n",
    "    \n",
    "    ft2 = np.array([-21.5, -5.0, -27.5, -14.0, -6.0, -22.0, -23.0, -26.5, \\\n",
    "                     19.0, -22.5, -7.5, -30.5, -5.5, -1.0, -21.0, 9.5, -2.0, \\\n",
    "                    -26.0, -7.5, -19.5, -18.0, -8.5, 10.5, -14.5, 17.0, \\\n",
    "                     -8.5, -14.0, -15.5, -21.5, -30.0, -17.5, -6.0, -27.5, \\\n",
    "                     -8.0, 22.0, 13.0, -22.0, -1.0, -23.0, 10.5, -4.5, -12.5, \\\n",
    "                     19.5, -7.5, 1.0, 18.5, -1.5, 9.5, 15.0, 12.5, 11.5, \\\n",
    "                     11.5, 21.0, -13.0, 7.0, -4.0, -16.0, -4.0, -4.0, -3.5, \\\n",
    "                     15.0, -1.5, -23.5, -22.5, 9.5, 8.5, -7.0, -9.0, -2.0, \\\n",
    "                     10.5, -24.5, 15.0, 15.5, 16.0, 10.5, -10.0, -5.5, 16.5, \\\n",
    "                    -25.5, -13.5, -18.0, 18.0, -20.0, -27.5, -28.0, -20.0, \\\n",
    "                    -20.5, -4.5, 14.0, -1.0, 14.5, 21.5, -28.0, 6.0, 8.0, 2.5, \\\n",
    "                     -2.5, -9.5])\n",
    "     \n",
    "    x_lin, norm_l, x_q, norm_q = applyLS(t2, ft2)\n",
    "    printResults(\"dataset 2\", t2, ft2, x_lin, norm_l, x_q, norm_q)\n",
    "\n",
    "    plt.show()\n",
    "\n"
   ]
  }
 ],
 "metadata": {
  "kernelspec": {
   "display_name": "SageMath 8.8",
   "language": "sage",
   "name": "sagemath"
  },
  "language_info": {
   "codemirror_mode": {
    "name": "ipython",
    "version": 2
   },
   "file_extension": ".py",
   "mimetype": "text/x-python",
   "name": "python",
   "nbconvert_exporter": "python",
   "pygments_lexer": "ipython2",
   "version": "2.7.15"
  }
 },
 "nbformat": 4,
 "nbformat_minor": 2
}
